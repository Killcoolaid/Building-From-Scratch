{
 "cells": [
  {
   "cell_type": "code",
   "execution_count": 1,
   "id": "393deb8e",
   "metadata": {},
   "outputs": [],
   "source": [
    "import numpy as np \n",
    "from collections import Counter"
   ]
  },
  {
   "cell_type": "code",
   "execution_count": null,
   "id": "8bf3451f",
   "metadata": {},
   "outputs": [],
   "source": [
    "class linear_regression: \n",
    "    def __init__(self , learning_rate = 0.01 , epochs = 1000 , regularizer = 'None', effect_of_regularization = 0.1):\n",
    "        self.learning_rate = learning_rate\n",
    "        self.epochs = epochs\n",
    "        self.regularizer = regularizer\n",
    "        self.effect = effect_of_regularization\n",
    "        self.bias = 0\n",
    "\n",
    "        self.weights = None \n",
    "    \n",
    "    def initialize_weights(self , feature_size):\n",
    "        return np.zeros(feature_size)\n",
    "\n",
    "    def train(self , x_data , y_data): \n",
    "        total_datapoints , features = x_data.shape \n",
    "        self.weights = self.initialize_weights(features)\n",
    "\n",
    "        for i in range(self.epochs):\n",
    "            y_pred = x_data @ self.weights + self.bias  \n",
    "            error = y_pred - y_data\n",
    "\n",
    "            change_in_w = (x_data.T @ error)*(2/total_datapoints)\n",
    "            change_in_b = np.sum(error)*(2/total_datapoints)\n",
    "\n",
    "            if(self.regularizer == 'l1'):\n",
    "                change_in_w += self.effect(np.sign(self.weights))\n",
    "            elif(self.regularizer == 'l2'):\n",
    "                change_in_w += self.effect(2*self.weights) \n",
    "\n",
    "            self.weights -= self.learning_rate*change_in_w\n",
    "            self.bias -= self.learning_rate*change_in_b\n",
    "\n",
    "    def pred(self, x_data): \n",
    "        return x_data @ self.weights + self.bias\n"
   ]
  }
 ],
 "metadata": {
  "kernelspec": {
   "display_name": "Python 3",
   "language": "python",
   "name": "python3"
  },
  "language_info": {
   "codemirror_mode": {
    "name": "ipython",
    "version": 3
   },
   "file_extension": ".py",
   "mimetype": "text/x-python",
   "name": "python",
   "nbconvert_exporter": "python",
   "pygments_lexer": "ipython3",
   "version": "3.12.1"
  }
 },
 "nbformat": 4,
 "nbformat_minor": 5
}
